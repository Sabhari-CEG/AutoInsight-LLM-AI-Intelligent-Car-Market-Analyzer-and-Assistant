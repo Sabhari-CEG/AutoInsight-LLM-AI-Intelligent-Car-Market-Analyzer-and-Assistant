{
 "cells": [
  {
   "cell_type": "code",
   "execution_count": 2,
   "metadata": {},
   "outputs": [],
   "source": [
    "import pandas as pd\n",
    "import numpy as np\n",
    "import os   "
   ]
  },
  {
   "cell_type": "code",
   "execution_count": 3,
   "metadata": {},
   "outputs": [
    {
     "name": "stdout",
     "output_type": "stream",
     "text": [
      "Current directory: e:\\Data analysis LLM\n",
      "Files in directory: ['configure', 'data', 'main.ipynb']\n"
     ]
    }
   ],
   "source": [
    "print('Current directory:', os.getcwd())\n",
    "print('Files in directory:', os.listdir('.'))"
   ]
  },
  {
   "cell_type": "code",
   "execution_count": 4,
   "metadata": {},
   "outputs": [
    {
     "name": "stdout",
     "output_type": "stream",
     "text": [
      "Dataset loaded. Basic information:\n",
      "<class 'pandas.core.frame.DataFrame'>\n",
      "RangeIndex: 558837 entries, 0 to 558836\n",
      "Data columns (total 16 columns):\n",
      " #   Column        Non-Null Count   Dtype  \n",
      "---  ------        --------------   -----  \n",
      " 0   year          558837 non-null  int64  \n",
      " 1   make          548536 non-null  object \n",
      " 2   model         548438 non-null  object \n",
      " 3   trim          548186 non-null  object \n",
      " 4   body          545642 non-null  object \n",
      " 5   transmission  493485 non-null  object \n",
      " 6   vin           558833 non-null  object \n",
      " 7   state         558837 non-null  object \n",
      " 8   condition     547017 non-null  float64\n",
      " 9   odometer      558743 non-null  float64\n",
      " 10  color         558088 non-null  object \n",
      " 11  interior      558088 non-null  object \n",
      " 12  seller        558837 non-null  object \n",
      " 13  mmr           558799 non-null  float64\n",
      " 14  sellingprice  558825 non-null  float64\n",
      " 15  saledate      558825 non-null  object \n",
      "dtypes: float64(4), int64(1), object(11)\n",
      "memory usage: 68.2+ MB\n",
      "None\n",
      "\n",
      "First few rows of the dataset:\n",
      "   year   make                model        trim   body transmission  \\\n",
      "0  2015    Kia              Sorento          LX    SUV    automatic   \n",
      "1  2015    Kia              Sorento          LX    SUV    automatic   \n",
      "2  2014    BMW             3 Series  328i SULEV  Sedan    automatic   \n",
      "3  2015  Volvo                  S60          T5  Sedan    automatic   \n",
      "4  2014    BMW  6 Series Gran Coupe        650i  Sedan    automatic   \n",
      "\n",
      "                 vin state  condition  odometer  color interior  \\\n",
      "0  5xyktca69fg566472    ca        5.0   16639.0  white    black   \n",
      "1  5xyktca69fg561319    ca        5.0    9393.0  white    beige   \n",
      "2  wba3c1c51ek116351    ca       45.0    1331.0   gray    black   \n",
      "3  yv1612tb4f1310987    ca       41.0   14282.0  white    black   \n",
      "4  wba6b2c57ed129731    ca       43.0    2641.0   gray    black   \n",
      "\n",
      "                                   seller      mmr  sellingprice  \\\n",
      "0                 kia motors america  inc  20500.0       21500.0   \n",
      "1                 kia motors america  inc  20800.0       21500.0   \n",
      "2  financial services remarketing (lease)  31900.0       30000.0   \n",
      "3                 volvo na rep/world omni  27500.0       27750.0   \n",
      "4  financial services remarketing (lease)  66000.0       67000.0   \n",
      "\n",
      "                                  saledate  \n",
      "0  Tue Dec 16 2014 12:30:00 GMT-0800 (PST)  \n",
      "1  Tue Dec 16 2014 12:30:00 GMT-0800 (PST)  \n",
      "2  Thu Jan 15 2015 04:30:00 GMT-0800 (PST)  \n",
      "3  Thu Jan 29 2015 04:30:00 GMT-0800 (PST)  \n",
      "4  Thu Dec 18 2014 12:30:00 GMT-0800 (PST)  \n",
      "\n",
      "Summary statistics:\n",
      "                year      condition       odometer            mmr  \\\n",
      "count  558837.000000  547017.000000  558743.000000  558799.000000   \n",
      "mean     2010.038927      30.672365   68320.017767   13769.377495   \n",
      "std         3.966864      13.402832   53398.542821    9679.967174   \n",
      "min      1982.000000       1.000000       1.000000      25.000000   \n",
      "25%      2007.000000      23.000000   28371.000000    7100.000000   \n",
      "50%      2012.000000      35.000000   52254.000000   12250.000000   \n",
      "75%      2013.000000      42.000000   99109.000000   18300.000000   \n",
      "max      2015.000000      49.000000  999999.000000  182000.000000   \n",
      "\n",
      "        sellingprice  \n",
      "count  558825.000000  \n",
      "mean    13611.358810  \n",
      "std      9749.501628  \n",
      "min         1.000000  \n",
      "25%      6900.000000  \n",
      "50%     12100.000000  \n",
      "75%     18200.000000  \n",
      "max    230000.000000  \n"
     ]
    }
   ],
   "source": [
    "df = pd.read_csv('data/car_prices.csv')\n",
    "\n",
    "print(\"Dataset loaded. Basic information:\")\n",
    "print(df.info())\n",
    "\n",
    "print(\"\\nFirst few rows of the dataset:\")\n",
    "print(df.head())\n",
    "\n",
    "print(\"\\nSummary statistics:\")\n",
    "print(df.describe())"
   ]
  },
  {
   "cell_type": "code",
   "execution_count": 5,
   "metadata": {},
   "outputs": [
    {
     "name": "stdout",
     "output_type": "stream",
     "text": [
      "Checking for missing values:\n",
      "year                0\n",
      "make            10301\n",
      "model           10399\n",
      "trim            10651\n",
      "body            13195\n",
      "transmission    65352\n",
      "vin                 4\n",
      "state               0\n",
      "condition       11820\n",
      "odometer           94\n",
      "color             749\n",
      "interior          749\n",
      "seller              0\n",
      "mmr                38\n",
      "sellingprice       12\n",
      "saledate           12\n",
      "dtype: int64\n",
      "\n",
      "Rows with missing values dropped.\n"
     ]
    }
   ],
   "source": [
    "print(\"Checking for missing values:\")\n",
    "print(df.isnull().sum())\n",
    "\n",
    "df = df.dropna()\n",
    "print(\"\\nRows with missing values dropped.\")"
   ]
  },
  {
   "cell_type": "code",
   "execution_count": 6,
   "metadata": {},
   "outputs": [
    {
     "name": "stdout",
     "output_type": "stream",
     "text": [
      "<class 'pandas.core.frame.DataFrame'>\n",
      "Index: 472325 entries, 0 to 558836\n",
      "Data columns (total 16 columns):\n",
      " #   Column        Non-Null Count   Dtype  \n",
      "---  ------        --------------   -----  \n",
      " 0   year          472325 non-null  int64  \n",
      " 1   make          472325 non-null  object \n",
      " 2   model         472325 non-null  object \n",
      " 3   trim          472325 non-null  object \n",
      " 4   body          472325 non-null  object \n",
      " 5   transmission  472325 non-null  object \n",
      " 6   vin           472325 non-null  object \n",
      " 7   state         472325 non-null  object \n",
      " 8   condition     472325 non-null  float64\n",
      " 9   odometer      472325 non-null  float64\n",
      " 10  color         472325 non-null  object \n",
      " 11  interior      472325 non-null  object \n",
      " 12  seller        472325 non-null  object \n",
      " 13  mmr           472325 non-null  float64\n",
      " 14  sellingprice  472325 non-null  float64\n",
      " 15  saledate      472325 non-null  object \n",
      "dtypes: float64(4), int64(1), object(11)\n",
      "memory usage: 61.3+ MB\n"
     ]
    }
   ],
   "source": [
    "df.info()"
   ]
  },
  {
   "cell_type": "code",
   "execution_count": 7,
   "metadata": {},
   "outputs": [
    {
     "name": "stderr",
     "output_type": "stream",
     "text": [
      "C:\\Users\\Hp\\AppData\\Local\\Temp\\ipykernel_2208\\1331375087.py:5: UserWarning: Could not infer format, so each element will be parsed individually, falling back to `dateutil`. To ensure parsing is consistent and as-expected, please specify a format.\n",
      "  df['saledate'] = pd.to_datetime(df['saledate'])\n"
     ]
    },
    {
     "name": "stdout",
     "output_type": "stream",
     "text": [
      "Data types after conversion:\n",
      "year              int64\n",
      "make             object\n",
      "model            object\n",
      "trim             object\n",
      "body             object\n",
      "transmission     object\n",
      "vin              object\n",
      "state            object\n",
      "condition       float64\n",
      "odometer          int64\n",
      "color            object\n",
      "interior         object\n",
      "seller           object\n",
      "mmr             float64\n",
      "sellingprice    float64\n",
      "saledate         object\n",
      "dtype: object\n"
     ]
    },
    {
     "name": "stderr",
     "output_type": "stream",
     "text": [
      "C:\\Users\\Hp\\AppData\\Local\\Temp\\ipykernel_2208\\1331375087.py:5: FutureWarning: In a future version of pandas, parsing datetimes with mixed time zones will raise an error unless `utc=True`. Please specify `utc=True` to opt in to the new behaviour and silence this warning. To create a `Series` with mixed offsets and `object` dtype, please use `apply` and `datetime.datetime.strptime`\n",
      "  df['saledate'] = pd.to_datetime(df['saledate'])\n"
     ]
    }
   ],
   "source": [
    "df['year'] = df['year'].astype(int)\n",
    "df['condition'] = df['condition'].astype(float)\n",
    "df['odometer'] = df['odometer'].astype(int)\n",
    "\n",
    "df['saledate'] = pd.to_datetime(df['saledate'])\n",
    "\n",
    "print(\"Data types after conversion:\")\n",
    "print(df.dtypes)"
   ]
  },
  {
   "cell_type": "code",
   "execution_count": 8,
   "metadata": {},
   "outputs": [
    {
     "name": "stdout",
     "output_type": "stream",
     "text": [
      "Sample of normalized text columns:\n",
      "    make                model        trim   body transmission state  color  \\\n",
      "0    kia              sorento          lx    suv    automatic    ca  white   \n",
      "1    kia              sorento          lx    suv    automatic    ca  white   \n",
      "2    bmw             3 series  328i sulev  sedan    automatic    ca   gray   \n",
      "3  volvo                  s60          t5  sedan    automatic    ca  white   \n",
      "4    bmw  6 series gran coupe        650i  sedan    automatic    ca   gray   \n",
      "\n",
      "  interior  \n",
      "0    black  \n",
      "1    beige  \n",
      "2    black  \n",
      "3    black  \n",
      "4    black  \n"
     ]
    }
   ],
   "source": [
    "text_columns = ['make', 'model', 'trim', 'body', 'transmission', 'state', 'color', 'interior']\n",
    "for col in text_columns:\n",
    "    df[col] = df[col].str.lower()\n",
    "\n",
    "print(\"Sample of normalized text columns:\")\n",
    "print(df[text_columns].head())"
   ]
  },
  {
   "cell_type": "code",
   "execution_count": 9,
   "metadata": {},
   "outputs": [
    {
     "name": "stdout",
     "output_type": "stream",
     "text": [
      "Duplicate rows removed.\n",
      "New shape of dataset: (472325, 16)\n"
     ]
    }
   ],
   "source": [
    "df = df.drop_duplicates()\n",
    "print(\"Duplicate rows removed.\")\n",
    "print(\"New shape of dataset:\", df.shape)"
   ]
  },
  {
   "cell_type": "code",
   "execution_count": 10,
   "metadata": {},
   "outputs": [
    {
     "name": "stdout",
     "output_type": "stream",
     "text": [
      "Updated dataset information:\n",
      "<class 'pandas.core.frame.DataFrame'>\n",
      "Index: 472325 entries, 0 to 558836\n",
      "Data columns (total 16 columns):\n",
      " #   Column        Non-Null Count   Dtype  \n",
      "---  ------        --------------   -----  \n",
      " 0   year          472325 non-null  int64  \n",
      " 1   make          472325 non-null  object \n",
      " 2   model         472325 non-null  object \n",
      " 3   trim          472325 non-null  object \n",
      " 4   body          472325 non-null  object \n",
      " 5   transmission  472325 non-null  object \n",
      " 6   vin           472325 non-null  object \n",
      " 7   state         472325 non-null  object \n",
      " 8   condition     472325 non-null  float64\n",
      " 9   odometer      472325 non-null  int64  \n",
      " 10  color         472325 non-null  object \n",
      " 11  interior      472325 non-null  object \n",
      " 12  seller        472325 non-null  object \n",
      " 13  mmr           472325 non-null  float64\n",
      " 14  sellingprice  472325 non-null  float64\n",
      " 15  saledate      472325 non-null  object \n",
      "dtypes: float64(3), int64(2), object(11)\n",
      "memory usage: 61.3+ MB\n",
      "None\n",
      "\n",
      "Checking for any remaining missing values:\n",
      "year            0\n",
      "make            0\n",
      "model           0\n",
      "trim            0\n",
      "body            0\n",
      "transmission    0\n",
      "vin             0\n",
      "state           0\n",
      "condition       0\n",
      "odometer        0\n",
      "color           0\n",
      "interior        0\n",
      "seller          0\n",
      "mmr             0\n",
      "sellingprice    0\n",
      "saledate        0\n",
      "dtype: int64\n",
      "\n",
      "Unique values in categorical columns:\n",
      "\n",
      "Top 5 unique values in make:\n",
      "make\n",
      "ford         81013\n",
      "chevrolet    54150\n",
      "nissan       44043\n",
      "toyota       35313\n",
      "dodge        27181\n",
      "Name: count, dtype: int64\n",
      "\n",
      "Top 5 unique values in model:\n",
      "model\n",
      "altima    16346\n",
      "fusion    12116\n",
      "f-150     11950\n",
      "camry     10986\n",
      "escape    10656\n",
      "Name: count, dtype: int64\n",
      "\n",
      "Top 5 unique values in trim:\n",
      "trim\n",
      "base       48780\n",
      "se         39633\n",
      "lx         18706\n",
      "limited    15506\n",
      "lt         15273\n",
      "Name: count, dtype: int64\n",
      "\n",
      "Top 5 unique values in body:\n",
      "body\n",
      "sedan        211298\n",
      "suv          120968\n",
      "hatchback     23821\n",
      "minivan       21938\n",
      "coupe         15960\n",
      "Name: count, dtype: int64\n",
      "\n",
      "Top 5 unique values in transmission:\n",
      "transmission\n",
      "automatic    455963\n",
      "manual        16362\n",
      "Name: count, dtype: int64\n",
      "\n",
      "Top 5 unique values in state:\n",
      "state\n",
      "fl    75243\n",
      "ca    66213\n",
      "tx    41657\n",
      "ga    30939\n",
      "pa    24117\n",
      "Name: count, dtype: int64\n",
      "\n",
      "Top 5 unique values in color:\n",
      "color\n",
      "black     93244\n",
      "white     89233\n",
      "silver    71251\n",
      "gray      70640\n",
      "blue      43060\n",
      "Name: count, dtype: int64\n",
      "\n",
      "Top 5 unique values in interior:\n",
      "interior\n",
      "black    209865\n",
      "gray     152616\n",
      "beige     50469\n",
      "tan       37723\n",
      "—          9864\n",
      "Name: count, dtype: int64\n"
     ]
    }
   ],
   "source": [
    "print(\"Updated dataset information:\")\n",
    "print(df.info())\n",
    "\n",
    "print(\"\\nChecking for any remaining missing values:\")\n",
    "print(df.isnull().sum())\n",
    "\n",
    "print(\"\\nUnique values in categorical columns:\")\n",
    "for col in text_columns:\n",
    "    print(f\"\\nTop 5 unique values in {col}:\")\n",
    "    print(df[col].value_counts().head())"
   ]
  },
  {
   "cell_type": "code",
   "execution_count": 11,
   "metadata": {},
   "outputs": [
    {
     "name": "stdout",
     "output_type": "stream",
     "text": [
      "Top 10 car makes:\n",
      "make\n",
      "ford         81013\n",
      "chevrolet    54150\n",
      "nissan       44043\n",
      "toyota       35313\n",
      "dodge        27181\n",
      "honda        24781\n",
      "hyundai      18659\n",
      "bmw          17509\n",
      "kia          15828\n",
      "chrysler     15133\n",
      "Name: count, dtype: int64\n",
      "\n",
      "Average selling price by make (top 10):\n",
      "make\n",
      "rolls-royce     153456.250000\n",
      "ferrari         128852.941176\n",
      "lamborghini     111500.000000\n",
      "bentley          72713.333333\n",
      "tesla            67054.347826\n",
      "aston martin     55500.000000\n",
      "fisker           46461.111111\n",
      "maserati         43729.816514\n",
      "lotus            40800.000000\n",
      "porsche          38932.109767\n",
      "Name: sellingprice, dtype: float64\n",
      "\n",
      "Correlation matrix:\n",
      "                  year  condition  odometer       mmr  sellingprice\n",
      "year          1.000000   0.334760 -0.773102  0.588614      0.578933\n",
      "condition     0.334760   1.000000 -0.314205  0.276521      0.317712\n",
      "odometer     -0.773102  -0.314205  1.000000 -0.582654     -0.577397\n",
      "mmr           0.588614   0.276521 -0.582654  1.000000      0.983493\n",
      "sellingprice  0.578933   0.317712 -0.577397  0.983493      1.000000\n"
     ]
    }
   ],
   "source": [
    "print(\"Top 10 car makes:\")\n",
    "print(df['make'].value_counts().head(10))\n",
    "\n",
    "print(\"\\nAverage selling price by make (top 10):\")\n",
    "print(df.groupby('make')['sellingprice'].mean().sort_values(ascending=False).head(10))\n",
    "\n",
    "numeric_cols = ['year', 'condition', 'odometer', 'mmr', 'sellingprice']\n",
    "correlation_matrix = df[numeric_cols].corr()\n",
    "print(\"\\nCorrelation matrix:\")\n",
    "print(correlation_matrix)"
   ]
  },
  {
   "cell_type": "code",
   "execution_count": 18,
   "metadata": {},
   "outputs": [
    {
     "name": "stdout",
     "output_type": "stream",
     "text": [
      "Preprocessed data saved to 'data/preprocessed_car_prices.csv'\n"
     ]
    }
   ],
   "source": [
    "df.to_csv('data/preprocessed_car_prices.csv', index=False)\n",
    "print(\"Preprocessed data saved to 'data/preprocessed_car_prices.csv'\")"
   ]
  },
  {
   "cell_type": "code",
   "execution_count": 19,
   "metadata": {},
   "outputs": [
    {
     "name": "stderr",
     "output_type": "stream",
     "text": [
      "c:\\Users\\Hp\\AppData\\Local\\Programs\\Python\\Python312\\Lib\\site-packages\\tqdm\\auto.py:21: TqdmWarning: IProgress not found. Please update jupyter and ipywidgets. See https://ipywidgets.readthedocs.io/en/stable/user_install.html\n",
      "  from .autonotebook import tqdm as notebook_tqdm\n"
     ]
    }
   ],
   "source": [
    "from transformers import AutoModelForCausalLM, AutoTokenizer\n",
    "import torch"
   ]
  },
  {
   "cell_type": "code",
   "execution_count": 20,
   "metadata": {},
   "outputs": [],
   "source": [
    "model_name = \"gpt2\"\n",
    "tokenizer = AutoTokenizer.from_pretrained(model_name)\n",
    "model = AutoModelForCausalLM.from_pretrained(model_name)"
   ]
  },
  {
   "cell_type": "code",
   "execution_count": 21,
   "metadata": {},
   "outputs": [],
   "source": [
    "def generate_insight(prompt, max_new_tokens=100):\n",
    "    inputs = tokenizer.encode(prompt, return_tensors=\"pt\", truncation=True, max_length=512)\n",
    "    outputs = model.generate(\n",
    "        inputs, \n",
    "        max_new_tokens=max_new_tokens, \n",
    "        num_return_sequences=1, \n",
    "        temperature=0.7,\n",
    "        do_sample=True,\n",
    "        pad_token_id=tokenizer.eos_token_id\n",
    "    )\n",
    "    return tokenizer.decode(outputs[0], skip_special_tokens=True)"
   ]
  },
  {
   "cell_type": "code",
   "execution_count": 22,
   "metadata": {},
   "outputs": [],
   "source": [
    "def analyze_price_trends(df):\n",
    "    avg_price = df['sellingprice'].mean()\n",
    "    max_price = df['sellingprice'].max()\n",
    "    min_price = df['sellingprice'].min()\n",
    "    prompt = f\"The average selling price of cars is ${avg_price:.2f}, with a maximum of ${max_price:.2f} and a minimum of ${min_price:.2f}. Provide an analysis of these price trends.\"\n",
    "    return generate_insight(prompt)\n",
    "\n",
    "def analyze_popular_makes(df):\n",
    "    top_makes = df['make'].value_counts().head(5).to_dict()\n",
    "    prompt = f\"The top 5 car makes in the dataset are {top_makes}. What insights can we draw from this information about market preferences?\"\n",
    "    return generate_insight(prompt)\n",
    "\n",
    "def analyze_condition_impact(df):\n",
    "    avg_price_by_condition = df.groupby('condition')['sellingprice'].mean().to_dict()\n",
    "    prompt = f\"The average selling prices by condition rating are {avg_price_by_condition}. How does the condition of a car impact its selling price?\"\n",
    "    return generate_insight(prompt)"
   ]
  },
  {
   "cell_type": "code",
   "execution_count": 23,
   "metadata": {},
   "outputs": [
    {
     "name": "stderr",
     "output_type": "stream",
     "text": [
      "The attention mask is not set and cannot be inferred from input because pad token is same as eos token. As a consequence, you may observe unexpected behavior. Please pass your input's `attention_mask` to obtain reliable results.\n"
     ]
    },
    {
     "name": "stdout",
     "output_type": "stream",
     "text": [
      "Price Trends Analysis:\n",
      "The average selling price of cars is $13611.36, with a maximum of $230000.00 and a minimum of $1.00. Provide an analysis of these price trends.\n",
      "\n",
      "A car's value is determined by:\n",
      "\n",
      "A car's price, and\n",
      "\n",
      "The price of the car. A car's value is determined by: A car's price, and\n",
      "\n",
      "The price of the car.\n",
      "\n",
      "How much do cars cost?\n",
      "\n",
      "How much do cars cost?\n",
      "\n",
      "What is a car worth?\n",
      "\n",
      "How much are cars worth?\n",
      "\n",
      "How much are cars worth?\n",
      "\n",
      "What is the cost of buying a car?\n",
      "\n",
      "\n",
      "Popular Makes Analysis:\n",
      "The top 5 car makes in the dataset are {'Ford': 93554, 'Chevrolet': 60197, 'Nissan': 53946, 'Toyota': 39871, 'Dodge': 30710}. What insights can we draw from this information about market preferences?\n",
      "\n",
      "Car Trend Predictions\n",
      "\n",
      "There are many factors that can affect the car's performance. First, the market is very competitive and will likely react in different ways. Second, it is difficult to predict what kind of car is likely to win or what kind of car will lose. Finally, cars with low margins or poor performance will have less of an impact on the market.\n",
      "\n",
      "By analyzing the data, we can make predictions about the market's performance that will help us to improve our\n",
      "\n",
      "Condition Impact Analysis:\n",
      "The average selling prices by condition rating are {1.0: 3923.135931558935, 2.0: 5691.410437710438, 3.0: 12275.28541010924, 4.0: 17724.538901716696, 5.0: 24724.724915344857, 11.0: 4504.482758620689, 12.0: 3820.7894736842104, 13.0: 3554.878048780488, 14.0: 3323.8805970149256, 15.0: 3913.5416666666665, 16.0: 4386.23595505618, 17.0: 4074.8971193415637, 18.0: 4584.05572755418, 19.0: 5082.002530986848, 21.0: 7330.597673660181, 22.0: 7616.581310879974, 23.0: 8062.063873961895, 24.0: 8361.518014153979, 25.0: 8839.977386734612, 26.0: 9174.055662832676, 27.0: 9643.028195718654, 28.0: 10198.823434322365, 29.0: 10756.953455198647, 31.0: 11652.596725222294, 32.0: 11869.520277052801, 33.0: 12218.919672285527, 34.0: 12726.135942978675, 35.0: 13370.993046728972, 36.0: 14090.140295540961, 37.0: 14859.704911712546, 38.0: 15446.297495059553, 39.0: 15986.739106425703, 41.0: 17333.66640662246, 42.0: 17934.611476487997, 43.0: 18613.73810001203, 44.0: 19222.363604295682, 45.0: 20021.23324941119, 46.0: 20526.675241412064, 47.0: 20724.81457995576, 48.0: 20816.61525231616, 49.0: 20917.310908672613, 50.0: 21024.06744146779, 51.0: 21222.03917133814, 52.0: 21258.97939092912, 53.0: 21311.5390909097, 54.0\n"
     ]
    }
   ],
   "source": [
    "print(\"Price Trends Analysis:\")\n",
    "print(analyze_price_trends(df))\n",
    "\n",
    "print(\"\\nPopular Makes Analysis:\")\n",
    "print(analyze_popular_makes(df))\n",
    "\n",
    "print(\"\\nCondition Impact Analysis:\")\n",
    "print(analyze_condition_impact(df))"
   ]
  },
  {
   "cell_type": "code",
   "execution_count": 24,
   "metadata": {},
   "outputs": [
    {
     "data": {
      "image/png": "[encoded data removed]",
      "text/plain": [
       "<Figure size 1000x600 with 1 Axes>"
      ]
     },
     "metadata": {},
     "output_type": "display_data"
    },
    {
     "name": "stdout",
     "output_type": "stream",
     "text": [
      "Based on this description of a price distribution: The histogram shows a right-skewed distribution of selling prices, with a peak around [insert peak value] and a long tail extending to higher prices.\n",
      "What insights can we draw about the car market from this price distribution?\n",
      "We can infer that the market will be stronger with a higher price distribution than with a lower price distribution. Indeed, we get this from the graph of the price distribution of all the cars over the first two curves:\n",
      "Fig. 4. The market for all the cars over the first two curves, showing the average price distribution on the first curve and the average price distribution on the second curve.\n",
      "The first curve shows the average price distribution of cars that have sold in the first two curves over\n"
     ]
    }
   ],
   "source": [
    "import matplotlib.pyplot as plt\n",
    "import seaborn as sns\n",
    "\n",
    "plt.figure(figsize=(10, 6))\n",
    "sns.histplot(df['sellingprice'], kde=True)\n",
    "plt.title('Distribution of Selling Prices')\n",
    "plt.xlabel('Selling Price')\n",
    "plt.ylabel('Frequency')\n",
    "plt.show()\n",
    "\n",
    "plot_description = \"The histogram shows a right-skewed distribution of selling prices, with a peak around [insert peak value] and a long tail extending to higher prices.\"\n",
    "prompt = f\"Based on this description of a price distribution: {plot_description}\\nWhat insights can we draw about the car market from this price distribution?\"\n",
    "print(generate_insight(prompt))"
   ]
  },
  {
   "cell_type": "code",
   "execution_count": 25,
   "metadata": {},
   "outputs": [
    {
     "name": "stdout",
     "output_type": "stream",
     "text": [
      "\n",
      "Here's what I found for Audi A4:\n",
      "Average Year: 2008\n",
      "Average Condition: 29.4/5\n",
      "Average Odometer: 75,397 miles\n",
      "Average Price: $12,476.40\n",
      "\n",
      "Top 5 Suggestions:\n",
      "- 2015 Audi A4: Condition 49.0/5, Odometer 10,559.0 miles, Price $27,400.00\n",
      "- 2015 Audi A4: Condition 49.0/5, Odometer 2,365.0 miles, Price $28,000.00\n",
      "- 2015 Audi A4: Condition 49.0/5, Odometer 7,136.0 miles, Price $30,250.00\n",
      "- 2015 Audi A4: Condition 48.0/5, Odometer 4,164.0 miles, Price $30,400.00\n",
      "- 2015 Audi A4: Condition 46.0/5, Odometer 3,827.0 miles, Price $29,500.00\n",
      "\n",
      "\n",
      "Here's what I found for Bmw M5:\n",
      "Average Year: 2009\n",
      "Average Condition: 36.4/5\n",
      "Average Odometer: 53,692 miles\n",
      "Average Price: $41,897.25\n",
      "\n",
      "Top 5 Suggestions:\n",
      "- 2014 Bmw M5: Condition 49.0/5, Odometer 1,911.0 miles, Price $85,000.00\n",
      "- 2014 Bmw M5: Condition 49.0/5, Odometer 3,129.0 miles, Price $99,000.00\n",
      "- 2014 Bmw M5: Condition 48.0/5, Odometer 4,503.0 miles, Price $96,500.00\n",
      "- 2014 Bmw M5: Condition 48.0/5, Odometer 2,077.0 miles, Price $102,000.00\n",
      "- 2014 Bmw M5: Condition 47.0/5, Odometer 7,766.0 miles, Price $77,250.00\n",
      "\n",
      "\n",
      "Here's what I found for Bmw M5:\n",
      "Average Year: 2009\n",
      "Average Condition: 36.4/5\n",
      "Average Odometer: 53,692 miles\n",
      "Average Price: $41,897.25\n",
      "\n",
      "Top 5 Suggestions:\n",
      "- 2014 Bmw M5: Condition 49.0/5, Odometer 1,911.0 miles, Price $85,000.00\n",
      "- 2014 Bmw M5: Condition 49.0/5, Odometer 3,129.0 miles, Price $99,000.00\n",
      "- 2014 Bmw M5: Condition 48.0/5, Odometer 4,503.0 miles, Price $96,500.00\n",
      "- 2014 Bmw M5: Condition 48.0/5, Odometer 2,077.0 miles, Price $102,000.00\n",
      "- 2014 Bmw M5: Condition 47.0/5, Odometer 7,766.0 miles, Price $77,250.00\n",
      "\n",
      "\n",
      "Here's what I found for Tesla Model3:\n",
      "No results found for this make and model.\n",
      "\n",
      "Here's what I found for Tesla Model3:\n",
      "No results found for this make and model.\n",
      "Thank you for using the car assistant. Goodbye!\n"
     ]
    }
   ],
   "source": [
    "import pandas as pd\n",
    "import re\n",
    "\n",
    "def extract_make_model(user_input):\n",
    "    pattern = r'(?:i want to buy a|i want|buy|what about)\\s*(\\w+)\\s+(\\w+)'\n",
    "    match = re.search(pattern, user_input.lower())\n",
    "    if match:\n",
    "        return match.group(1), match.group(2)\n",
    "    return None, None\n",
    "\n",
    "def search_cars(df, make, model):\n",
    "    return df[(df['make'].str.lower() == make.lower()) & (df['model'].str.lower() == model.lower())]\n",
    "\n",
    "def generate_car_summary(cars):\n",
    "    if cars.empty:\n",
    "        return \"No results found for this make and model.\"\n",
    "    \n",
    "    year_avg = int(cars['year'].mean())\n",
    "    condition_avg = cars['condition'].mean()\n",
    "    odometer_avg = int(cars['odometer'].mean())\n",
    "    price_avg = cars['sellingprice'].mean()\n",
    "    \n",
    "    top_choices = cars.sort_values(\n",
    "        by=['year', 'condition', 'sellingprice'], \n",
    "        ascending=[False, False, True]\n",
    "    ).head(5)\n",
    "    \n",
    "    result = f\"Average Year: {year_avg}\\n\"\n",
    "    result += f\"Average Condition: {condition_avg:.1f}/5\\n\"\n",
    "    result += f\"Average Odometer: {odometer_avg:,} miles\\n\"\n",
    "    result += f\"Average Price: ${price_avg:,.2f}\\n\\n\"\n",
    "    result += \"Top 5 Suggestions:\\n\"\n",
    "    for i, row in top_choices.iterrows():\n",
    "        result += f\"- {row['year']} {row['make'].capitalize()} {row['model'].capitalize()}: \"\n",
    "        result += f\"Condition {row['condition']:.1f}/5, \"\n",
    "        result += f\"Odometer {row['odometer']:,} miles, \"\n",
    "        result += f\"Price ${row['sellingprice']:,.2f}\\n\"\n",
    "    return result\n",
    "\n",
    "def car_assistant(df):\n",
    "    while True:\n",
    "        user_input = input(\"How can I assist you with cars today? (Type 'exit' to quit)\\n\")\n",
    "        \n",
    "        if user_input.lower() == 'exit':\n",
    "            print(\"Thank you for using the car assistant. Goodbye!\")\n",
    "            break\n",
    "        \n",
    "        make, model = extract_make_model(user_input)\n",
    "        \n",
    "        if make and model:\n",
    "            cars = search_cars(df, make, model)\n",
    "            summary = generate_car_summary(cars)\n",
    "            print(f\"\\nHere's what I found for {make.capitalize()} {model.capitalize()}:\")\n",
    "            print(summary)\n",
    "        else:\n",
    "            print(\"I'm sorry, I couldn't understand your query. Please use one of these formats:\")\n",
    "            print(\"- I want to buy a [make] [model]\")\n",
    "            print(\"- I want [make] [model]\")\n",
    "            print(\"- buy [make] [model]\")\n",
    "            print(\"- what about [make] [model]\")\n",
    "\n",
    "df = pd.read_csv('data/car_prices.csv')\n",
    "\n",
    "car_assistant(df)"
   ]
  },
  {
   "cell_type": "code",
   "execution_count": null,
   "metadata": {},
   "outputs": [],
   "source": []
  }
 ],
 "metadata": {
  "kernelspec": {
   "display_name": "Python 3",
   "language": "python",
   "name": "python3"
  },
  "language_info": {
   "codemirror_mode": {
    "name": "ipython",
    "version": 3
   },
   "file_extension": ".py",
   "mimetype": "text/x-python",
   "name": "python",
   "nbconvert_exporter": "python",
   "pygments_lexer": "ipython3",
   "version": "3.12.3"
  }
 },
 "nbformat": 4,
 "nbformat_minor": 2
}
